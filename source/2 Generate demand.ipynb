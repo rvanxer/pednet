{
 "cells": [
  {
   "cell_type": "markdown",
   "id": "cf09987a-3278-45ba-ba45-3beb23a22064",
   "metadata": {},
   "source": [
    "# Setup"
   ]
  },
  {
   "cell_type": "code",
   "execution_count": 1,
   "id": "7040bb0d-0aa7-4cf4-b988-2813cc11d35a",
   "metadata": {},
   "outputs": [],
   "source": [
    "%run setup.py"
   ]
  },
  {
   "cell_type": "code",
   "execution_count": 2,
   "id": "d3d45d05-cd90-4c2a-bf95-02ea8ec165d2",
   "metadata": {},
   "outputs": [],
   "source": [
    "import haversine as hs\n",
    "from igraph import Graph\n",
    "import osmnx as ox\n",
    "from shapely.geometry import LineString, Point\n",
    "from sklearn.neighbors import KDTree"
   ]
  },
  {
   "cell_type": "code",
   "execution_count": 3,
   "id": "d82488ac-6afc-43ba-a077-c6dfdb18f51e",
   "metadata": {},
   "outputs": [],
   "source": [
    "aus = City('Austin, TX')\n",
    "cam = City('Cambridge, MA')\n",
    "sea = City('Seattle, WA')\n",
    "tor = City('City of Toronto', 'Toronto')"
   ]
  },
  {
   "cell_type": "markdown",
   "id": "1b779c83-cad3-4dc6-88db-3254b7405b8d",
   "metadata": {},
   "source": [
    "---\n",
    "# Prepare geometry"
   ]
  },
  {
   "cell_type": "markdown",
   "id": "20e6504e-5a00-4cea-8279-baf3c6c21c8d",
   "metadata": {},
   "source": [
    "## Buildings (OSM)"
   ]
  },
  {
   "cell_type": "code",
   "execution_count": 4,
   "id": "1cb48d2f-2897-4812-a06c-a7c8f7027ec6",
   "metadata": {},
   "outputs": [],
   "source": [
    "def save_osm_buildings(city, timeout=480):\n",
    "    with warnings.catch_warnings():\n",
    "        warnings.simplefilter('ignore')\n",
    "        b4_timeout = ox.settings.timeout\n",
    "        ox.settings.timeout = timeout\n",
    "        bld = ox.geometries_from_place(city.geocode, tags={'building': True})\n",
    "        bld['geometry'] = bld.geometry.to_crs(CRS_M).centroid.to_crs(CRS_DEG)\n",
    "        ox.settings.timeout = b4_timeout\n",
    "    city.save('osm_buildings', (bld.reset_index().rename(columns={'building':'kind'})\n",
    "                                [['osmid', 'element_type', 'kind', 'geometry']]\n",
    "                                .rename_axis('id').to_crs(CRS_DEG)))"
   ]
  },
  {
   "cell_type": "markdown",
   "id": "ed369bee-33de-4305-9f01-270b47d47248",
   "metadata": {},
   "source": [
    "**AUSTIN**"
   ]
  },
  {
   "cell_type": "raw",
   "id": "906ad29f-f17d-4615-b537-8ec4caa1df71",
   "metadata": {},
   "source": [
    "%time save_osm_buildings(aus) # t = 2min 25s"
   ]
  },
  {
   "cell_type": "markdown",
   "id": "b1aab520-221b-4fa7-b3ed-415cdffb7137",
   "metadata": {},
   "source": [
    "**CAMBRIDGE**"
   ]
  },
  {
   "cell_type": "raw",
   "id": "105b131f-8115-4438-a5ad-87a7605d706f",
   "metadata": {},
   "source": [
    "%time save_osm_buildings(cam) # t = 3s"
   ]
  },
  {
   "cell_type": "markdown",
   "id": "5a6615db-9d0b-44b3-bdc0-52b81cc116eb",
   "metadata": {},
   "source": [
    "**SEATTLE**"
   ]
  },
  {
   "cell_type": "raw",
   "id": "4545aba4-2da2-43a8-beb0-aa56c3341b00",
   "metadata": {},
   "source": [
    "%time save_osm_buildings(sea) # t = 3min 33s"
   ]
  },
  {
   "cell_type": "markdown",
   "id": "03969e0e-8a86-4a91-a73f-0536423491ff",
   "metadata": {},
   "source": [
    "**TORONTO**"
   ]
  },
  {
   "cell_type": "raw",
   "id": "a92a8907-157e-4d8a-a743-ec2ad92b3ef2",
   "metadata": {},
   "source": [
    "%time save_osm_buildings(tor) # t = 5min 9s"
   ]
  },
  {
   "cell_type": "markdown",
   "id": "4eb2e207-a81c-46a3-91aa-376233c61f9f",
   "metadata": {},
   "source": [
    "## OSM POIs"
   ]
  },
  {
   "cell_type": "code",
   "execution_count": 5,
   "id": "83f576b7-aa31-400a-a9c8-e37d8c5eaa51",
   "metadata": {},
   "outputs": [],
   "source": [
    "def save_osm_pois(city, tags=['amenity','healthcare','leisure','office','shop']):\n",
    "    with warnings.catch_warnings():\n",
    "        warnings.simplefilter('ignore')\n",
    "        poi = ox.geometries_from_place(city.geocode, tags={x: True for x in tags})\n",
    "    geom = poi.to_crs(CRS_M).centroid.to_crs(CRS_DEG).rename('geometry').reset_index()\n",
    "    poi = geom.merge(pd.concat([poi[x].dropna().rename('subcategory').reset_index().assign(category=x)\n",
    "                                for x in tags]), on=('element_type','osmid')).rename_axis('id')\n",
    "    city.save('osm_pois', poi)"
   ]
  },
  {
   "cell_type": "markdown",
   "id": "36c204a3-6168-47e5-826f-897ebb66a573",
   "metadata": {},
   "source": [
    "**AUSTIN**"
   ]
  },
  {
   "cell_type": "raw",
   "id": "e3b42235-7265-4d2c-91bb-f08147331122",
   "metadata": {},
   "source": [
    "%time save_osm_pois(aus) # t = 41s"
   ]
  },
  {
   "cell_type": "markdown",
   "id": "aab6eb74-a4f8-4547-9520-b988759acdb9",
   "metadata": {},
   "source": [
    "**CAMBRIDGE**"
   ]
  },
  {
   "cell_type": "raw",
   "id": "3d01e67f-b885-41ab-b2bf-00061b55ca87",
   "metadata": {},
   "source": [
    "%time save_osm_pois(cam) # t = 1s"
   ]
  },
  {
   "cell_type": "markdown",
   "id": "f0d5eeef-0b68-4301-9f6a-7c34124a2948",
   "metadata": {},
   "source": [
    "**SEATTLE**"
   ]
  },
  {
   "cell_type": "raw",
   "id": "3c26d0da-a0e3-4944-a8bf-7a7e40c1342e",
   "metadata": {},
   "source": [
    "%time save_osm_pois(sea) # t = 2min 39s"
   ]
  },
  {
   "cell_type": "markdown",
   "id": "f104006e-69f7-4507-b141-29c4b93a1e1c",
   "metadata": {},
   "source": [
    "**TORONTO**"
   ]
  },
  {
   "cell_type": "raw",
   "id": "37a4cb84-7de0-4780-b784-b071ca5a9c5d",
   "metadata": {},
   "source": [
    "%time save_osm_pois(tor) # t = 2min 52s"
   ]
  },
  {
   "cell_type": "markdown",
   "id": "c81603ae-5fe0-4ef8-acec-c70fd0bee627",
   "metadata": {},
   "source": [
    "## SafeGraph POIs"
   ]
  },
  {
   "cell_type": "raw",
   "id": "19cdcc1c-e0c6-4387-b820-7a52a1026b52",
   "metadata": {},
   "source": [
    "sp.start()"
   ]
  },
  {
   "cell_type": "raw",
   "id": "be98d344-e187-49e9-a38d-d558f6d6bdfa",
   "metadata": {},
   "source": [
    "us_sg_poi_files = glob('/home/umni2/a/umnilab/data/SafeGraph/us/poi_211104/*.gz')\n",
    "ca_sg_poi_files = glob('/home/umni2/a/umnilab/data/SafeGraph/ca/poi_211104/*.gz')"
   ]
  },
  {
   "cell_type": "code",
   "execution_count": 6,
   "id": "063f9bc7-80fe-4438-ba90-7097f5a31882",
   "metadata": {},
   "outputs": [],
   "source": [
    "def get_sg_pois(city, poi_files, sp=sp, imp_pois=None, save=True):\n",
    "    schema = mk.spark.schema(mk.geo.SG_POIS_SCHEMA)\n",
    "    pois = sp.read_csv(poi_files, schema=schema, header=True)\n",
    "    minx, miny, maxx, maxy = city.load('boundary').geometry.bounds.iloc[0]\n",
    "    pois = (pois.filter(f'{miny} <= latitude and latitude <= {maxy}')\n",
    "            .filter(f'{minx} <= longitude and longitude <= {maxx}'))\n",
    "    if imp_pois:\n",
    "        imp_pois = sp.session.createDataFrame(imp_pois).withColumn(\n",
    "            'naics_code', F.col('naics_code').cast(T.int32))\n",
    "        pois = (pois.join(imp_pois, on='naics_code')\n",
    "                .select('placekey', 'latitude', 'longitude', 'poi_class'))\n",
    "    else:\n",
    "        pois = pois.select('placekey', 'latitude', 'longitude', 'naics_code', 'top_category')\n",
    "    pois = mk.geo.pdf2gdf(pois.toPandas(), 'longitude', 'latitude', CRS_DEG)\n",
    "    pois = gpd.sjoin(pois, city.boundary.to_crs(CRS_DEG)[['geometry']]).drop(columns='index_right')\n",
    "    if save:\n",
    "        city.save('sg_pois', pois)\n",
    "    return pois"
   ]
  },
  {
   "cell_type": "markdown",
   "id": "55d5a1c0-1b92-4090-9b3a-848db3f94e05",
   "metadata": {},
   "source": [
    "**AUSTIN**"
   ]
  },
  {
   "cell_type": "raw",
   "id": "e2519a23-4118-4815-b5ca-412b57ab94e4",
   "metadata": {},
   "source": [
    "%time get_sg_pois(aus, us_sg_poi_files) # t = 9s"
   ]
  },
  {
   "cell_type": "markdown",
   "id": "9cab8f41-5011-4006-894c-98fad20d935d",
   "metadata": {},
   "source": [
    "**CAMBRIDGE**"
   ]
  },
  {
   "cell_type": "raw",
   "id": "8cfc216f-f8f2-4ce5-8f8f-c15777aaef09",
   "metadata": {},
   "source": [
    "%time get_sg_pois(cam, us_sg_poi_files) # t = 7s"
   ]
  },
  {
   "cell_type": "markdown",
   "id": "e182a424-f066-4c3c-aa89-287e1a4fce41",
   "metadata": {},
   "source": [
    "**SEATTLE**"
   ]
  },
  {
   "cell_type": "raw",
   "id": "5d454b6b-b403-4f36-86d6-ab565cb5ee0b",
   "metadata": {},
   "source": [
    "%time get_sg_pois(sea, us_sg_poi_files) # t = 5s"
   ]
  },
  {
   "cell_type": "markdown",
   "id": "a8fb1a0a-c686-4795-bfd2-2b4a697f8648",
   "metadata": {},
   "source": [
    "**TORONTO**"
   ]
  },
  {
   "cell_type": "raw",
   "id": "ee32fa59-d9d0-49e4-84a1-b5b46cc04255",
   "metadata": {},
   "source": [
    "%time get_sg_pois(tor, us_sg_poi_files) # t = 14s"
   ]
  },
  {
   "cell_type": "markdown",
   "id": "58330f4a-cc49-46df-b58d-7a1df28954c6",
   "metadata": {},
   "source": [
    "## Land use"
   ]
  },
  {
   "cell_type": "markdown",
   "id": "54a89eba-100f-44d6-9ece-7680990a5fae",
   "metadata": {},
   "source": [
    "[**AUSTIN**](https://data.austintexas.gov/Locations-and-Maps/Land-Use-Inventory-Detailed/fj9m-h5qy)"
   ]
  },
  {
   "cell_type": "code",
   "execution_count": 7,
   "id": "cd2e3487-78e5-4d81-b1be-74ff57fe9634",
   "metadata": {},
   "outputs": [
    {
     "name": "stdout",
     "output_type": "stream",
     "text": [
      "31 rows x 3 cols; Memory: 0.0 MiB\n"
     ]
    },
    {
     "data": {
      "text/html": [
       "<div>\n",
       "<style scoped>\n",
       "    .dataframe tbody tr th:only-of-type {\n",
       "        vertical-align: middle;\n",
       "    }\n",
       "\n",
       "    .dataframe tbody tr th {\n",
       "        vertical-align: top;\n",
       "    }\n",
       "\n",
       "    .dataframe thead th {\n",
       "        text-align: right;\n",
       "    }\n",
       "</style>\n",
       "<table border=\"1\" class=\"dataframe\">\n",
       "  <thead>\n",
       "    <tr style=\"text-align: right;\">\n",
       "      <th></th>\n",
       "      <th>lu_code</th>\n",
       "      <th>category</th>\n",
       "      <th>dmd_kind</th>\n",
       "    </tr>\n",
       "  </thead>\n",
       "  <tbody>\n",
       "    <tr>\n",
       "      <th></th>\n",
       "      <td>&lt;int64&gt;</td>\n",
       "      <td>&lt;object&gt;</td>\n",
       "      <td>&lt;object&gt;</td>\n",
       "    </tr>\n",
       "    <tr>\n",
       "      <th>0</th>\n",
       "      <td>100</td>\n",
       "      <td>Single Family</td>\n",
       "      <td>O</td>\n",
       "    </tr>\n",
       "  </tbody>\n",
       "</table>\n",
       "</div>"
      ],
      "text/plain": [
       "   lu_code       category  dmd_kind\n",
       "   <int64>       <object>  <object>\n",
       "0      100  Single Family         O"
      ]
     },
     "metadata": {},
     "output_type": "display_data"
    }
   ],
   "source": [
    "aus.lu_categories = Pdf(columns=['lu_code', 'category', 'dmd_kind'], data=[(100, 'Single Family', 'O'), (113, 'Mobile Homes', 'O'), (150, 'Duplex', 'O'), (160, 'Large-lot Single Family', 'O'), (210, 'Three/Fourplex', 'O'), (220, 'Apartment/Condo', 'O'), (230, 'Group Quarters', 'O'), (240, 'Retirement Housing', 'O'), (300, 'Commercial', 'D'), (330, 'Mixed Use', 'D'), (400, 'Office', 'D'), (510, 'Manufacturing', 'D'), (520, 'Warehousing', 'D'), (530, 'Miscellanrous Industrial', 'D'), (560, 'Resource Extraction (Mining)', 'D'), (570, 'Landfills', 'D'), (610, 'Semi-institutional Housing', 'O'), (620, 'Hospital', 'D'), (630, 'Government Services', 'D'), (640, 'Educational', 'D'), (650, 'Meeting and Assembly', 'D'), (670, 'Cemetery', 'D'), (680, 'Cultural Services', 'D'), (710, 'Parks/Greenbelts', 'D'), (720, 'Golf Courses', 'D'), (740, 'Common Areas', 'D'), (750, 'Preserves', 'D'), (810, 'Railroad Facilities', 'D'), (820, 'Transportation Facilities', 'D'), (830, 'Aviation Facilities', 'D'), (840, 'Marinas', 'D')]).disp()"
   ]
  },
  {
   "cell_type": "raw",
   "id": "cda28f13-3997-49e4-8403-435e6128cdd9",
   "metadata": {},
   "source": [
    "%%time\n",
    "# t = 22s\n",
    "aus.save('land_use', (gpd.read_file(DATA_DIR + 'raw/Austin Land Use Inventory Detailed.zip')\n",
    "                      .rename(columns={'land_use':'lu_code'})\n",
    "                      .dropna(subset=['lu_code']).astype({'lu_code': int}).reset_index(drop=True)\n",
    "                      .merge(aus.lu_categories, on='lu_code')\n",
    "                      [['lu_code','category','dmd_kind','geometry']].rename_axis('id').to_crs(CRS_DEG)))"
   ]
  },
  {
   "cell_type": "markdown",
   "id": "5cf5881b-2e9c-4dfd-8329-180ec478518d",
   "metadata": {},
   "source": [
    "[**CAMBRIDGE**](https://www.cambridgema.gov/GIS/gisdatadictionary/CDD/CDD_LandUse)"
   ]
  },
  {
   "cell_type": "code",
   "execution_count": 8,
   "id": "33c81f5f-843c-4496-b774-7c154b99df6e",
   "metadata": {},
   "outputs": [],
   "source": [
    "cam.lu_categories = Pdf(columns=['category', 'dmd_kind'], data=[('Residential', 'O'), ('Mixed Use Residential', 'O'), ('Commercial', 'D'), ('Office', 'D'), ('Transportation', 'D'), ('Higher Education', 'D'), ('Charitable/Religious', 'D'), ('Office/R&D', 'D'), ('Education', 'D'), ('Industrial', 'D'), ('Assisted Living/Boarding House', 'O'), ('Mixed Use Commercial', 'D'), ('Education Residential', 'O'), ('Government Operations', 'D'), ('Utility', 'D'), ('Health', 'D'), ('Mixed Use Education', 'D')])"
   ]
  },
  {
   "cell_type": "raw",
   "id": "63ecec61-dc86-4688-9961-2767659e3398",
   "metadata": {},
   "source": [
    "cam.save('land_use', (gpd.read_file(DATA_DIR + 'raw/Cambridge CDD_LandUse.shp.zip')\n",
    "                      .rename(columns=str.lower)[['category','geometry']]\n",
    "                      .merge(cam.lu_categories, on='category')\n",
    "                      .rename_axis('id').to_crs(CRS_DEG)))"
   ]
  },
  {
   "cell_type": "markdown",
   "id": "2dc00f4d-eada-4a45-a175-83be58b1df08",
   "metadata": {},
   "source": [
    "[**SEATTLE**](https://catalog.data.gov/dataset/zoned-development-capacity-by-development-site-2020-v-1-3-151fe)"
   ]
  },
  {
   "cell_type": "code",
   "execution_count": 9,
   "id": "eaf56fe7-f1b3-466a-91f9-f20160dd4b82",
   "metadata": {},
   "outputs": [],
   "source": [
    "sea.lu_categories = Pdf(columns=['category', 'dmd_kind'], data=[('Single Family', 'O'), ('Multi-Family', 'O'), ('Commercial/Mixed-Use', 'D'), ('Industrial', 'D'), ('Parks/Open Space/Cemeteries', 'D'), ('Major Institution And Public Facilities/Utilities', 'D')])"
   ]
  },
  {
   "cell_type": "raw",
   "id": "4794f965-98d2-4148-9b7d-8cd73889da26",
   "metadata": {},
   "source": [
    "%%time\n",
    "# t = 26s\n",
    "sea.save('land_use', (gpd.read_file(DATA_DIR + 'raw/Seattle_Zoned_Land_Use_2020-v.1.3.zip')\n",
    "                      .rename(columns={'LAND_USE_1':'category'})[['category','geometry']]\n",
    "                      .merge(sea.lu_categories, on='category').rename_axis('id').to_crs(CRS_DEG)))"
   ]
  },
  {
   "cell_type": "markdown",
   "id": "63b5e7c5-ec3b-40b2-8695-b30aeb700c1d",
   "metadata": {},
   "source": [
    "[**TORONTO**](https://borealisdata.ca/dataset.xhtml?persistentId=doi:10.5683/SP3/1VMJAG)\n",
    "\n",
    "Downloaded the huge parcel land-use database from https://borealisdata.ca/dataset.xhtml?persistentId=doi:10.5683/SP3/1VMJAG, extracted the zipped file and copied the shapefile `./TorontoLanduse/Landuse/data/Vector/Derived/LandUseByParcel2019_2021v0120211221.shp` to UMNI5."
   ]
  },
  {
   "cell_type": "code",
   "execution_count": 10,
   "id": "39706608-987f-4093-ba78-9fe02c81901f",
   "metadata": {},
   "outputs": [],
   "source": [
    "tor.lu_categories = Pdf(columns=['category', 'dmd_kind'], data=[('Neighbourhoods', 'O'), ('MixedUse', 'D'), ('ApartmentNeighbourhoods', 'O'), ('CoreEmploymentAreas', 'D'), ('Parks', 'O'), ('GeneralEmployment', 'D'), ('UtilityCorridors', 'D'), ('Institutional', 'D')])"
   ]
  },
  {
   "cell_type": "raw",
   "id": "f22f7111-2e3d-47ae-93be-f1ffef32d58f",
   "metadata": {},
   "source": [
    "%%time\n",
    "# t = 34s\n",
    "tor.save('land_use', (gpd.read_file(DATA_DIR + 'raw/Toronto_Land_Use')\n",
    "                      .rename(columns={'Class_name':'category'}).merge(tor.lu_categories)\n",
    "                      [['category','dmd_kind','geometry']].rename_axis('id').to_crs(CRS_DEG)))"
   ]
  },
  {
   "cell_type": "markdown",
   "id": "e96df0b4-a2b2-4487-90ed-d8cea02ff162",
   "metadata": {},
   "source": [
    "## Population"
   ]
  },
  {
   "cell_type": "code",
   "execution_count": 11,
   "id": "518bcd41-47cc-45a8-98f5-60eee7c2a61c",
   "metadata": {},
   "outputs": [
    {
     "name": "stdout",
     "output_type": "stream",
     "text": [
      "3,234 rows x 18 cols; Memory: 2.7 MiB; CRS: epsg:4269\n"
     ]
    },
    {
     "data": {
      "text/html": [
       "<div>\n",
       "<style scoped>\n",
       "    .dataframe tbody tr th:only-of-type {\n",
       "        vertical-align: middle;\n",
       "    }\n",
       "\n",
       "    .dataframe tbody tr th {\n",
       "        vertical-align: top;\n",
       "    }\n",
       "\n",
       "    .dataframe thead th {\n",
       "        text-align: right;\n",
       "    }\n",
       "</style>\n",
       "<table border=\"1\" class=\"dataframe\">\n",
       "  <thead>\n",
       "    <tr style=\"text-align: right;\">\n",
       "      <th></th>\n",
       "      <th>statefp</th>\n",
       "      <th>countyfp</th>\n",
       "      <th>countyns</th>\n",
       "      <th>geoid</th>\n",
       "      <th>name</th>\n",
       "      <th>namelsad</th>\n",
       "      <th>lsad</th>\n",
       "      <th>classfp</th>\n",
       "      <th>mtfcc</th>\n",
       "      <th>csafp</th>\n",
       "      <th>cbsafp</th>\n",
       "      <th>metdivfp</th>\n",
       "      <th>funcstat</th>\n",
       "      <th>aland</th>\n",
       "      <th>awater</th>\n",
       "      <th>intptlat</th>\n",
       "      <th>intptlon</th>\n",
       "      <th>geometry</th>\n",
       "    </tr>\n",
       "  </thead>\n",
       "  <tbody>\n",
       "    <tr>\n",
       "      <th></th>\n",
       "      <td>&lt;object&gt;</td>\n",
       "      <td>&lt;object&gt;</td>\n",
       "      <td>&lt;object&gt;</td>\n",
       "      <td>&lt;object&gt;</td>\n",
       "      <td>&lt;object&gt;</td>\n",
       "      <td>&lt;object&gt;</td>\n",
       "      <td>&lt;object&gt;</td>\n",
       "      <td>&lt;object&gt;</td>\n",
       "      <td>&lt;object&gt;</td>\n",
       "      <td>&lt;object&gt;</td>\n",
       "      <td>&lt;object&gt;</td>\n",
       "      <td>&lt;object&gt;</td>\n",
       "      <td>&lt;object&gt;</td>\n",
       "      <td>&lt;int64&gt;</td>\n",
       "      <td>&lt;int64&gt;</td>\n",
       "      <td>&lt;object&gt;</td>\n",
       "      <td>&lt;object&gt;</td>\n",
       "      <td>&lt;geometry&gt;</td>\n",
       "    </tr>\n",
       "  </tbody>\n",
       "</table>\n",
       "</div>"
      ],
      "text/plain": [
       "   statefp  countyfp  countyns     geoid      name  namelsad      lsad  \\\n",
       "  <object>  <object>  <object>  <object>  <object>  <object>  <object>   \n",
       "\n",
       "   classfp     mtfcc     csafp    cbsafp  metdivfp  funcstat    aland  \\\n",
       "  <object>  <object>  <object>  <object>  <object>  <object>  <int64>   \n",
       "\n",
       "   awater  intptlat  intptlon    geometry  \n",
       "  <int64>  <object>  <object>  <geometry>  "
      ]
     },
     "metadata": {},
     "output_type": "display_data"
    },
    {
     "name": "stdout",
     "output_type": "stream",
     "text": [
      "CPU times: user 3.49 s, sys: 319 ms, total: 3.81 s\n",
      "Wall time: 6.1 s\n"
     ]
    }
   ],
   "source": [
    "%time us_counties = gpd.read_file(DATA_DIR + 'raw/USA_counties.zip').rename(columns=str.lower).disp(0) # time: 3s"
   ]
  },
  {
   "cell_type": "code",
   "execution_count": 12,
   "id": "727e8f68-4879-447a-b304-09d05d2b2bda",
   "metadata": {},
   "outputs": [],
   "source": [
    "def get_acs(city, counties, bg_root=DATA_DIR + 'USA/cbgs/',\n",
    "            fields=mk.acs.IMP_FIELDS, save=True):\n",
    "    city_limit = city.load('boundary')[['geometry']].to_crs(counties.crs)\n",
    "    gdf = gpd.sjoin(city_limit, counties)\n",
    "    statefp = str(gdf['statefp'].iloc[0])\n",
    "    countyfps = ','.join(gdf['countyfp'].astype(str))\n",
    "    geo = [('state', statefp), ('county', countyfps), ('block group', '*')]\n",
    "    col_codes, col_names = list(zip(*fields.items()))\n",
    "    acs = mk.acs.download(geo, col_codes).rename(columns=fields).reset_index()\n",
    "    s, c, t, b = [acs.pop(x) for x in ['state','county','tract','block group']]\n",
    "    acs.index = pd.Index(s + c + t + b, name='geoid')\n",
    "    bgs = gpd.read_file(bg_root + f'{int(statefp)}.zip')\n",
    "    bgs = (gpd.sjoin(bgs.to_crs(CRS_DEG), city_limit.to_crs(CRS_DEG))\n",
    "           .rename(columns=str.lower).astype({'geoid': str})[['geoid', 'geometry']])\n",
    "    acs = bgs.merge(acs.reset_index(), on='geoid').set_index('geoid')\n",
    "    if save:\n",
    "        city.save('acs', acs)\n",
    "    return acs"
   ]
  },
  {
   "cell_type": "markdown",
   "id": "c48169a1-6fe7-4f7a-bde9-ef6d27bca3fc",
   "metadata": {},
   "source": [
    "**AUSTIN**"
   ]
  },
  {
   "cell_type": "raw",
   "id": "18767e81-189b-4c36-a4a5-18d58fc55850",
   "metadata": {},
   "source": [
    "%time get_acs(aus, us_counties) # t = 9s"
   ]
  },
  {
   "cell_type": "markdown",
   "id": "4da92ea0-ddbe-454a-8816-dab1cacca67e",
   "metadata": {},
   "source": [
    "**CAMBRIDGE**"
   ]
  },
  {
   "cell_type": "raw",
   "id": "dac2e2ab-ebd9-42fb-b0ed-5a74476b6560",
   "metadata": {},
   "source": [
    "%time get_acs(cam, us_counties) # t = 5s"
   ]
  },
  {
   "cell_type": "markdown",
   "id": "86eefb0d-348c-422e-9c3e-45f03d48b041",
   "metadata": {},
   "source": [
    "**SEATTLE**"
   ]
  },
  {
   "cell_type": "raw",
   "id": "c6ae77c0-ea38-477a-80a9-cd4087886d54",
   "metadata": {},
   "source": [
    "%time get_acs(sea, us_counties) # t = 9s"
   ]
  },
  {
   "cell_type": "markdown",
   "id": "73b33fd4-af99-4b2d-9f0e-cdac63ed95a3",
   "metadata": {},
   "source": [
    "**TORONTO**\n",
    "\n",
    "Could not find population by 158 neighborhood but found population estimate for 2021 in the neighborhood crime data layer obtained from https://open.toronto.ca/dataset/neighbourhood-crime-rates/"
   ]
  },
  {
   "cell_type": "raw",
   "id": "53bec412-c9be-4c7a-82b0-d675d974afa0",
   "metadata": {},
   "source": [
    "tor.save('acs', (gpd.read_file(DATA_DIR + 'raw/Toronto-neighbourhood-crime-rates.geojson')\n",
    "                 .rename(columns={'HoodName':'name', 'F2021_Population_Projection':'popu'})\n",
    "                 [['name','popu','geometry']].rename_axis('geoid').to_crs(CRS_DEG)))"
   ]
  },
  {
   "cell_type": "markdown",
   "id": "f54b24cf-7800-40bd-8bac-de8e06420f8c",
   "metadata": {},
   "source": [
    "## OD points\n",
    "- Classify builgins as origin or destination type (or both)\n",
    "- Assign buildings population assuming uniform population distribution among all origin (residential) buildings within each block group\n",
    "- Combine OSM and SafeGraph POIs as destinations to the mix to create the set of OD points"
   ]
  },
  {
   "cell_type": "raw",
   "id": "b0b55918-4500-445e-9ea4-2e8fce7217eb",
   "metadata": {},
   "source": [
    "poi_classes = pd.read_csv(DATA_DIR + 'poi_class.csv').disp()"
   ]
  },
  {
   "cell_type": "code",
   "execution_count": 13,
   "id": "fb5b1489-7245-4c47-9b96-a9bc1ecaf617",
   "metadata": {
    "tags": []
   },
   "outputs": [],
   "source": [
    "def get_od_points(city, max_people_per_bld=500, save=True):\n",
    "    # load buildings and SafeGraph and OSM POIs\n",
    "    sg_pois = city.load('sg_pois').rename(columns={'placekey':'base_id', 'top_category':'category'})\n",
    "    osm_pois = city.load('osm_pois').rename(columns={'osmid':'base_id'})\n",
    "    bld = city.load('osm_buildings').rename(columns={'osmid':'base_id'})\n",
    "    # assign land use to buildings\n",
    "    lu = city.load('land_use')\n",
    "    bld = gpd.sjoin(bld, lu, predicate='within').drop(columns='index_right')\n",
    "    bld['origin'] = bld['dmd_kind'] == 'O'\n",
    "    # add enclosing CBG's population info to buildings\n",
    "    popu = (city.load('acs')[['popu','geometry']].astype({'popu': float})\n",
    "            .query('popu > 0').astype({'popu': int}).rename(columns={'popu':'popu_cbg'}))\n",
    "    bld = gpd.sjoin(bld, popu.reset_index(), predicate='within').drop(columns='index_right')\n",
    "    # divide the CBG population uniformly to all origin buildings\n",
    "    popu_per_bld = (bld.query('origin').groupby('geoid')['popu_cbg'].agg(['count','first'])\n",
    "                    .assign(weight = lambda df: df['first']/df['count'])\n",
    "                    ['weight'].clip(0, max_people_per_bld))\n",
    "    bld = bld.merge(popu_per_bld, on='geoid')\n",
    "    # combine buildings and POIs to form OD points\n",
    "    odpt = pd.concat([\n",
    "        bld[['origin','base_id','category','weight','geometry']].assign(source='building'),\n",
    "        sg_pois[['base_id','category','geometry']].assign(source='safegraph', origin=False),\n",
    "        osm_pois[['base_id','category','geometry']].assign(source='osm', origin=False)\n",
    "    ]).reset_index(drop=True).rename_axis('id')\n",
    "    odpt['category'] = odpt['category'].str.upper()\n",
    "    odpt.loc[~odpt['origin'], 'weight'] = 0\n",
    "    odpt['lon'], odpt['lat'] = zip(*[x.coords[0] for x in odpt.geometry])\n",
    "    if save:\n",
    "        city.save('od_points', odpt)\n",
    "    return odpt"
   ]
  },
  {
   "cell_type": "markdown",
   "id": "b2d87fa8-f822-4fc6-8935-b30da130c900",
   "metadata": {},
   "source": [
    "**AUSTIN**"
   ]
  },
  {
   "cell_type": "raw",
   "id": "194e2455-1c95-4659-8e89-d4869aa1ee64",
   "metadata": {},
   "source": [
    "%time get_od_points(aus) # t = 12s"
   ]
  },
  {
   "cell_type": "markdown",
   "id": "9281044b-2d79-495e-9ed7-5c4b093ab69c",
   "metadata": {},
   "source": [
    "**CAMBRIDGE**"
   ]
  },
  {
   "cell_type": "raw",
   "id": "062abb8d-fa18-45be-8142-8ba10bf6db6f",
   "metadata": {},
   "source": [
    "get_od_points(cam)"
   ]
  },
  {
   "cell_type": "markdown",
   "id": "ab085699-84a6-4eda-a537-79c5d0980930",
   "metadata": {},
   "source": [
    "**SEATTLE**"
   ]
  },
  {
   "cell_type": "raw",
   "id": "76628572-1dfc-458b-b33b-e9153bd6fa9b",
   "metadata": {},
   "source": [
    "%time get_od_points(sea) # t = 9s"
   ]
  },
  {
   "cell_type": "markdown",
   "id": "41c1688f-e30e-4536-93ce-3668a74902e0",
   "metadata": {},
   "source": [
    "**TORONTO**"
   ]
  },
  {
   "cell_type": "raw",
   "id": "98e5c3cf-3ec5-4903-9af7-33b3790f5e43",
   "metadata": {},
   "source": [
    "%time get_od_points(tor) # t = 18s"
   ]
  },
  {
   "cell_type": "markdown",
   "id": "ce3376b3-957c-431d-af73-89f6e3c6e582",
   "metadata": {},
   "source": [
    "## Closest pednet nodes to OD points\n",
    "Closest node is not the one obtained from direct nearest point detection between nodes & buildings. Rather, it is the node which is closer of the two end points of the building's closest edge. Also, the distance between this node (edge endpoint) and the closest point on the walkway along the walkway is also computed."
   ]
  },
  {
   "cell_type": "code",
   "execution_count": 14,
   "id": "b6b86c6c-44b7-442c-b021-4f4b9eedeca4",
   "metadata": {},
   "outputs": [],
   "source": [
    "def get_odpt2node(city, spacing=5, save=True):\n",
    "    nodes = city.load('full_pednet_nodes').reset_index().to_crs(CRS_M)\n",
    "    edges = city.load('full_pednet_edges').reset_index().to_crs(CRS_M)\n",
    "    odpt = city.load('od_points').rename_axis('odpt_id').reset_index().to_crs(CRS_M)\n",
    "    (odpt_ids, eids), dists = edges.sindex.nearest(\n",
    "        odpt.geometry, return_all=False, return_distance=True)\n",
    "    odpt_ids = odpt.iloc[odpt_ids]['odpt_id'].values\n",
    "    odpt2edge = Pdf({'odpt_id': odpt_ids, 'eid': eids, 'dist_odpt2cp': dists})\n",
    "    odpt = odpt[['odpt_id', 'geometry']].merge(odpt2edge, on='odpt_id')\n",
    "    E = (edges.merge(odpt.drop(columns='geometry'), on='eid').drop_duplicates('eid')\n",
    "         [['eid','geometry','len','src_vid','trg_vid']])\n",
    "    E['dist'] = E['len'].apply(lambda x: list(np.arange(0, x+1e-4, spacing)) + [x])\n",
    "    pts = E.explode('dist').reset_index(drop=True)\n",
    "    pts['geometry'] = [line.interpolate(dist) for line, dist in\n",
    "                       tqdm(zip(pts.geometry, pts['dist']), total=pts.shape[0])]\n",
    "    pts = Gdf(pts, crs=CRS_M).rename_axis('pt_id')\n",
    "    odpt_idx, pts_idx = pts.sindex.nearest(odpt.geometry, return_all=False)\n",
    "    filt_odpt = (odpt.iloc[odpt_idx].reset_index(drop=True).to_crs(CRS_DEG)\n",
    "                 .rename(columns={'geometry':'odpt_geom'})\n",
    "                 [['odpt_id','odpt_geom','dist_odpt2cp']])\n",
    "    filt_pts = (pts.iloc[pts_idx].reset_index(drop=True).to_crs(CRS_DEG)\n",
    "                .rename(columns={'dist':'dist_src2cp', 'geometry':'cp_geom'})\n",
    "                .assign(dist_cp2trg = lambda df: df['len'] - df['dist_src2cp'])\n",
    "                .query('dist_cp2trg >= 0'))\n",
    "    odpt = pd.concat([filt_odpt, filt_pts], axis=1).dropna(subset=['odpt_geom','cp_geom'])\n",
    "    odpt['geometry'] = gpd.GeoSeries([LineString(x) for x in tqdm(\n",
    "        zip(odpt['odpt_geom'], odpt['cp_geom']), total=odpt.shape[0])], crs=CRS_DEG)\n",
    "    src = odpt[odpt['dist_src2cp'] <= odpt['len']/2].assign(is_source=True)\n",
    "    trg = odpt[odpt['dist_src2cp'] > odpt['len']/2].assign(is_source=False)\n",
    "    src['vid'], src['dist_cp2node'] = src['src_vid'], src['dist_src2cp']\n",
    "    trg['vid'], trg['dist_cp2node'] = trg['trg_vid'], trg['dist_cp2trg']\n",
    "    odpt2node = Gdf(pd.concat([src, trg]).astype({'dist_odpt2cp': float, 'dist_cp2node': float})\n",
    "                    ['odpt_id vid is_source dist_odpt2cp dist_cp2node geometry'.split()]\n",
    "                    .dropna(subset='geometry').reset_index(drop=True), crs=CRS_DEG)\n",
    "    if save:\n",
    "        city.save('odpt2node', odpt2node)\n",
    "    return odpt2node\n",
    "\n",
    "# %time x = get_odpt2node(tor); x"
   ]
  },
  {
   "cell_type": "markdown",
   "id": "544f488b-c531-4f16-b3fa-435441003dd2",
   "metadata": {},
   "source": [
    "**AUSTIN**"
   ]
  },
  {
   "cell_type": "raw",
   "id": "8fbda58f-4dc3-4ab1-9822-cc33566f7e90",
   "metadata": {},
   "source": [
    "%time get_odpt2node(aus) # t = 2min 16s"
   ]
  },
  {
   "cell_type": "markdown",
   "id": "7936ba3d-5ee6-4e66-a409-0ccf706fc6ff",
   "metadata": {},
   "source": [
    "**CAMBRIDGE**"
   ]
  },
  {
   "cell_type": "raw",
   "id": "336c4298-4ca0-4bde-b333-680f1bd460ff",
   "metadata": {},
   "source": [
    "%time get_odpt2node(cam) # t = 10s"
   ]
  },
  {
   "cell_type": "markdown",
   "id": "a2e77263-aa84-4bc3-a391-ebc4cde699c8",
   "metadata": {},
   "source": [
    "**TORONTO**"
   ]
  },
  {
   "cell_type": "raw",
   "id": "a4ac4f37-d75b-4ecd-bc79-f1f904955e03",
   "metadata": {},
   "source": [
    "%time get_odpt2node(tor) # t = 2min 47s"
   ]
  },
  {
   "cell_type": "markdown",
   "id": "fa85a380-3c79-4152-a7f4-cb02d87bf5f6",
   "metadata": {},
   "source": [
    "# Generate OD samples"
   ]
  },
  {
   "cell_type": "code",
   "execution_count": 15,
   "id": "996b556e-a4d4-4daf-8502-7bea2e7890fe",
   "metadata": {},
   "outputs": [],
   "source": [
    "def sample_odps(city, n, max_dist=None, seed=None, save=True):\n",
    "    odpt = city.load('od_points')\n",
    "    origs, dests = odpt.query('origin'), odpt.query('~origin')\n",
    "    pairs = Pdf([], columns=['orig_odpt', 'dest_odpt'])\n",
    "    np.random.seed(seed)\n",
    "    pbar = tqdm(total=n)\n",
    "    last = 0\n",
    "    while pairs.shape[0] <= n:\n",
    "        state = None if seed is None else np.random.randint(1, 100000)\n",
    "        O = origs.sample(n, weights='weight', random_state=state, replace=True)\n",
    "        D = dests.sample(n, random_state=state, replace=True)\n",
    "        OD = Pdf({'orig_odpt': O.index, 'dest_odpt': D.index})\n",
    "        if isinstance(max_dist, float) or isinstance(max_dist, int):\n",
    "            OD['dist'] = hs.haversine_vector(list(zip(O.lat, O.lon)), list(zip(D.lat, D.lon)), hs.Unit.METERS)\n",
    "            OD = OD.query(f'dist <= {max_dist}').drop(columns='dist')\n",
    "        pairs = pd.concat([pairs, OD.reset_index(drop=True)])\n",
    "        pbar.update(pairs.shape[0] - last)\n",
    "        last = pairs.shape[0]\n",
    "    pairs = pairs.head(n).reset_index(drop=True).rename_axis('od_id').astype(np.int32)\n",
    "    if save:\n",
    "        city.save(f'sample_OD_n{n}_seed{seed}_d{max_dist}m', pairs)\n",
    "    return pairs"
   ]
  },
  {
   "cell_type": "markdown",
   "id": "33d295b4-1351-469a-8e0a-1fd8bcb59af4",
   "metadata": {},
   "source": [
    "**AUSTIN**"
   ]
  },
  {
   "cell_type": "raw",
   "id": "78ffb203-e40a-47ac-a705-63c512cef47c",
   "metadata": {},
   "source": [
    "%time sample_odps(aus, 1_000_000, 800, 1234) # t = 9min 52s"
   ]
  },
  {
   "cell_type": "raw",
   "id": "cfc5aa0f-d738-4e4d-80a5-387baa097204",
   "metadata": {},
   "source": [
    "%time sample_odps(aus, 5_000_000, 800, 786) # t = 50min 34s"
   ]
  },
  {
   "cell_type": "markdown",
   "id": "ead928fc-048c-4a68-8d23-69c85189672c",
   "metadata": {},
   "source": [
    "**CAMBRIDGE**"
   ]
  },
  {
   "cell_type": "raw",
   "id": "4ac781e3-07b9-483b-96bd-d9ccaf43b622",
   "metadata": {},
   "source": [
    "%time sample_odps(cam, 1_000_000, 800, 1234) # t = 15s"
   ]
  },
  {
   "cell_type": "raw",
   "id": "d189dc96-ca4f-4498-ab44-16f076b35cb3",
   "metadata": {},
   "source": [
    "%time sample_odps(cam, 5_000_000, 800, 786) # t = 1min 13s"
   ]
  },
  {
   "cell_type": "markdown",
   "id": "75071427-80b7-41c7-ba5e-c12f906b7601",
   "metadata": {},
   "source": [
    "**TORONTO**"
   ]
  },
  {
   "cell_type": "raw",
   "id": "4e9acaec-9a1a-4854-9e09-87d0108df35f",
   "metadata": {},
   "source": [
    "%time sample_odps(tor, 1_000_000, 800, 1234) # t = 6min 4s"
   ]
  },
  {
   "cell_type": "raw",
   "id": "3a7bcb33-8535-4347-92b0-0d66d20e8d37",
   "metadata": {},
   "source": [
    "%time sample_odps(tor, 5_000_000, 800, 786) # t = 31min 11s"
   ]
  },
  {
   "cell_type": "markdown",
   "id": "c4dfbf41-1a22-4783-9a9f-abdb9c4cce23",
   "metadata": {},
   "source": [
    "## Simplify sidewalks from generated OD\n",
    "Combine the sidewalk segments whose endpoints do not have any demand in the generated OD sample"
   ]
  },
  {
   "cell_type": "code",
   "execution_count": 16,
   "id": "0cb8e5c7-1ea9-4e9f-827c-68d5e626c435",
   "metadata": {},
   "outputs": [],
   "source": [
    "def simplify_sidewalks(city, sample_file_idx=0, save=True):\n",
    "    # load full pednet nodes, edges & graph\n",
    "    V = city.load('full_pednet_nodes')\n",
    "    E = city.load('full_pednet_edges')\n",
    "    G = Graph()\n",
    "    G.add_vertices(V.shape[0], {'vid': V.index})\n",
    "    G.add_edges(list(zip(E['src_vid'], E['trg_vid'])), {'eid': E.index} | {\n",
    "        x: E[x].values for x in E.columns if x != 'geometry'})\n",
    "    # load OD sample and mapping of OD points to pednet nodes\n",
    "    OD = pd.read_pickle(glob(city.root + 'sample_OD_*')[sample_file_idx])\n",
    "    odpt2V = city.load('odpt2node').set_index('odpt_id')\n",
    "    # find unique nodes covered in the OD sample\n",
    "    uV = V.loc[pd.concat([OD.merge(odpt2V['vid'], left_on=x, right_index=True)['vid'] \n",
    "                          for x in ['orig_odpt','dest_odpt']]).drop_duplicates().values]\n",
    "    # filter sidewalks whose both endpoints are not junctions and not present in OD sample\n",
    "    E2 = Pdf([dict(eid=e['eid'], src_vid=e.source, trg_vid=e.target) for e in G.es if all([\n",
    "        e['exists'],\n",
    "        not e['is_xwalk'],\n",
    "        G.vs[e.source].degree() <= 2,\n",
    "        G.vs[e.target].degree() <= 2,\n",
    "        G.vs[e.source]['vid'] not in uV.index,\n",
    "        G.vs[e.target]['vid'] not in uV.index,\n",
    "    ])]).merge(E[['len','geometry']], on='eid').set_index('eid')\n",
    "    # cluster nodes subset by the filtered edges\n",
    "    G2 = G.induced_subgraph(G.vs.select(set(E2['src_vid']) | set(E2['trg_vid'])))\n",
    "    clusters = Pdf({'cid': G2.clusters().membership}, index=[v['vid'] for v in G2.vs])\n",
    "    # assign the created cluster IDs to the candidate edges\n",
    "    E2 = E2.merge(clusters, left_on='src_vid', right_index=True)\n",
    "    # combine the edges using the above clusters\n",
    "    E3 = []\n",
    "    for cid, df in tqdm(E2.groupby('cid')):\n",
    "        # only include edge clusters which have two endpoints (i.e., two 1-degree nodes)\n",
    "        vcount = np.array(np.unique(df[['src_vid','trg_vid']], return_counts=True)).T\n",
    "        deg1V = vcount[vcount[:, 1] == 1][:, 0]\n",
    "        if deg1V.size == 2:\n",
    "            E3.append((cid, *deg1V, vcount[:, 0], df.index.values, df['len'].sum(),\n",
    "                       gpd.GeoSeries(df.geometry).unary_union))\n",
    "    E3 = Pdf(E3, columns=['cid','src_vid','trg_vid','vids','eid','len','geometry'])\n",
    "    # remove the non-junction, non-demand nodes that are not endpoints of edge clusters\n",
    "    E4 = (pd.concat([E.drop(E3['eid'].explode().values).reset_index(),\n",
    "                     E3.assign(is_xwalk=False, exists=True, orig_id=-1, kind=None)])\n",
    "          [['eid','orig_id','is_xwalk','exists','src_vid','trg_vid','len','geometry']]\n",
    "          .reset_index(drop=True).rename_axis())\n",
    "    if save:\n",
    "        city.save('simple_sidewalk_pednet_edges', E4)\n",
    "    return E4"
   ]
  },
  {
   "cell_type": "markdown",
   "id": "07206da3-4498-4eca-9a99-71bdaac9dc43",
   "metadata": {},
   "source": [
    "**AUSTIN**"
   ]
  },
  {
   "cell_type": "raw",
   "id": "eb4e1743-8965-4dcf-99cd-f36fb7a29cc1",
   "metadata": {},
   "source": [
    "%time simplify_sidewalks(aus) # t = 1min"
   ]
  },
  {
   "cell_type": "markdown",
   "id": "bb5f25db-5b94-40ae-9879-5ae0c720651f",
   "metadata": {},
   "source": [
    "**CAMBRIDGE**"
   ]
  },
  {
   "cell_type": "raw",
   "id": "6ac18bea-e864-496d-82f4-94084224f5b6",
   "metadata": {},
   "source": [
    "%time simplify_sidewalks(cam) # t = 1s"
   ]
  },
  {
   "cell_type": "markdown",
   "id": "c421263b-0734-4411-adbf-bff7dad287ce",
   "metadata": {},
   "source": [
    "**TORONTO**"
   ]
  },
  {
   "cell_type": "raw",
   "id": "f98df34a-4529-4c68-b5a9-32edfa84da65",
   "metadata": {},
   "source": [
    "%time simplify_sidewalks(tor) # t = 7s"
   ]
  },
  {
   "cell_type": "raw",
   "id": "9ea9799b-2fc3-4f83-8b04-ecbd8e2b694c",
   "metadata": {},
   "source": [
    "%%time\n",
    "# t = 11s\n",
    "(tor.load('simple_sidewalk_pednet_edges').set_crs(CRS_DEG)\n",
    " .assign(category = lambda df: [{\n",
    "     (True, True): 'Existing crosswalk',\n",
    "     (True, False): 'Existing sidewalk',\n",
    "     (False, True): 'Proposed crosswalk',\n",
    "     (False, False): 'Proposed sidewalk',\n",
    " }[pair] for pair in zip(df['exists'], df['is_xwalk'])])\n",
    " .drop(columns='eid')\n",
    ").to_file(tor.root + 'simple_sidewalk_pednet_edges.gpkg')"
   ]
  },
  {
   "cell_type": "code",
   "execution_count": null,
   "id": "73e5a80c-a585-42bf-9698-dcda76975aa3",
   "metadata": {},
   "outputs": [],
   "source": []
  }
 ],
 "metadata": {
  "kernelspec": {
   "display_name": "Python 3 (ipykernel)",
   "language": "python",
   "name": "python3"
  },
  "language_info": {
   "codemirror_mode": {
    "name": "ipython",
    "version": 3
   },
   "file_extension": ".py",
   "mimetype": "text/x-python",
   "name": "python",
   "nbconvert_exporter": "python",
   "pygments_lexer": "ipython3",
   "version": "3.9.7"
  },
  "toc-autonumbering": true
 },
 "nbformat": 4,
 "nbformat_minor": 5
}
